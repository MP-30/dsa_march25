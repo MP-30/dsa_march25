{
 "cells": [
  {
   "cell_type": "markdown",
   "id": "53277017",
   "metadata": {},
   "source": []
  },
  {
   "cell_type": "code",
   "execution_count": null,
   "id": "1ce58b0c",
   "metadata": {},
   "outputs": [],
   "source": [
    "class Program:\n",
    "    language = 'Python'\n",
    "    version = '3.12'   "
   ]
  },
  {
   "cell_type": "code",
   "execution_count": null,
   "id": "2088bae4",
   "metadata": {},
   "outputs": [
    {
     "data": {
      "text/plain": [
       "'3.12'"
      ]
     },
     "execution_count": 24,
     "metadata": {},
     "output_type": "execute_result"
    }
   ],
   "source": [
    "Program.language"
   ]
  },
  {
   "cell_type": "code",
   "execution_count": 27,
   "id": "4d035ce9",
   "metadata": {},
   "outputs": [
    {
     "data": {
      "text/plain": [
       "'3.13'"
      ]
     },
     "execution_count": 27,
     "metadata": {},
     "output_type": "execute_result"
    }
   ],
   "source": [
    "Program.version = '3.13'\n",
    "Program.version"
   ]
  },
  {
   "cell_type": "code",
   "execution_count": 28,
   "id": "53dd5699",
   "metadata": {},
   "outputs": [
    {
     "data": {
      "text/plain": [
       "'Python'"
      ]
     },
     "execution_count": 28,
     "metadata": {},
     "output_type": "execute_result"
    }
   ],
   "source": [
    "getattr(Program, 'language')"
   ]
  },
  {
   "cell_type": "code",
   "execution_count": 29,
   "id": "fc9885fc",
   "metadata": {},
   "outputs": [],
   "source": [
    "setattr(Program, 'Name', 'Programing')"
   ]
  },
  {
   "cell_type": "code",
   "execution_count": 30,
   "id": "a0065396",
   "metadata": {},
   "outputs": [
    {
     "data": {
      "text/plain": [
       "'Programing'"
      ]
     },
     "execution_count": 30,
     "metadata": {},
     "output_type": "execute_result"
    }
   ],
   "source": [
    "Program.Name"
   ]
  },
  {
   "cell_type": "code",
   "execution_count": 35,
   "id": "88dd4a3f",
   "metadata": {},
   "outputs": [
    {
     "data": {
      "text/plain": [
       "mappingproxy({'__module__': '__main__',\n",
       "              '__firstlineno__': 1,\n",
       "              'language': 'Python',\n",
       "              'version': '3.13',\n",
       "              '__static_attributes__': (),\n",
       "              '__dict__': <attribute '__dict__' of 'Program' objects>,\n",
       "              '__weakref__': <attribute '__weakref__' of 'Program' objects>,\n",
       "              '__doc__': None,\n",
       "              'Name': 'Programing'})"
      ]
     },
     "execution_count": 35,
     "metadata": {},
     "output_type": "execute_result"
    }
   ],
   "source": [
    "Program.__dict__"
   ]
  },
  {
   "cell_type": "code",
   "execution_count": 44,
   "id": "4d144dbd",
   "metadata": {},
   "outputs": [],
   "source": [
    "class Programs:\n",
    "    language = 'Python'\n",
    "    \n",
    "    def say_hello():\n",
    "        print(f\"Hello from {Programs.language}\")"
   ]
  },
  {
   "cell_type": "code",
   "execution_count": 45,
   "id": "2d0693ee",
   "metadata": {},
   "outputs": [
    {
     "data": {
      "text/plain": [
       "mappingproxy({'__module__': '__main__',\n",
       "              '__firstlineno__': 1,\n",
       "              'language': 'Python',\n",
       "              'say_hello': <function __main__.Programs.say_hello()>,\n",
       "              '__static_attributes__': (),\n",
       "              '__dict__': <attribute '__dict__' of 'Programs' objects>,\n",
       "              '__weakref__': <attribute '__weakref__' of 'Programs' objects>,\n",
       "              '__doc__': None})"
      ]
     },
     "execution_count": 45,
     "metadata": {},
     "output_type": "execute_result"
    }
   ],
   "source": [
    "Programs.__dict__"
   ]
  },
  {
   "cell_type": "code",
   "execution_count": 46,
   "id": "cf04ddca",
   "metadata": {},
   "outputs": [
    {
     "name": "stdout",
     "output_type": "stream",
     "text": [
      "Hello from Python\n"
     ]
    }
   ],
   "source": [
    "Programs.say_hello()"
   ]
  }
 ],
 "metadata": {
  "kernelspec": {
   "display_name": "Python 3",
   "language": "python",
   "name": "python3"
  },
  "language_info": {
   "codemirror_mode": {
    "name": "ipython",
    "version": 3
   },
   "file_extension": ".py",
   "mimetype": "text/x-python",
   "name": "python",
   "nbconvert_exporter": "python",
   "pygments_lexer": "ipython3",
   "version": "3.13.3"
  }
 },
 "nbformat": 4,
 "nbformat_minor": 5
}
